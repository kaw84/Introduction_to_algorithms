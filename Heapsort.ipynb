{
  "nbformat": 4,
  "nbformat_minor": 0,
  "metadata": {
    "colab": {
      "provenance": [],
      "authorship_tag": "ABX9TyNwMHr1MZutXMyi6iqWKKpi",
      "include_colab_link": true
    },
    "kernelspec": {
      "name": "python3",
      "display_name": "Python 3"
    },
    "language_info": {
      "name": "python"
    }
  },
  "cells": [
    {
      "cell_type": "markdown",
      "metadata": {
        "id": "view-in-github",
        "colab_type": "text"
      },
      "source": [
        "<a href=\"https://colab.research.google.com/github/kaw84/Introduction_to_algorithms/blob/main/Heapsort.ipynb\" target=\"_parent\"><img src=\"https://colab.research.google.com/assets/colab-badge.svg\" alt=\"Open In Colab\"/></a>"
      ]
    },
    {
      "cell_type": "code",
      "execution_count": 1,
      "metadata": {
        "id": "LoCq5CWE_OdE"
      },
      "outputs": [],
      "source": [
        "def heapify(arr, N, i):\n",
        "  largest = i\n",
        "  l = 2 * i + 1\n",
        "  r = 2 * i + 2\n",
        "\n",
        "  if l < N and arr[largest] < arr[l]:\n",
        "    largest = l\n",
        "\n",
        "  if r < N and arr[largest] < arr[r]:\n",
        "    largest = r\n",
        "\n",
        "  if largest != i:\n",
        "    arr[largest], arr[i] = arr[i], arr[largest]\n",
        "\n",
        "    heapify(arr, N , i)"
      ]
    },
    {
      "cell_type": "code",
      "source": [
        "def heapsort(arr):\n",
        "  N = len(arr)\n",
        "\n",
        "  for i in range(N//2 -1, -1, -1):\n",
        "    heapify(arr, N, i)\n",
        "\n",
        "  for i in range(N-1, 0, -1):\n",
        "    arr[0], arr[i] = arr[i], arr[0]\n",
        "    heapify(arr, i, 0)"
      ],
      "metadata": {
        "id": "oyUtJz65_QoG"
      },
      "execution_count": null,
      "outputs": []
    }
  ]
}