{
  "nbformat": 4,
  "nbformat_minor": 0,
  "metadata": {
    "colab": {
      "provenance": []
    },
    "kernelspec": {
      "name": "python3",
      "display_name": "Python 3"
    },
    "language_info": {
      "name": "python"
    }
  },
  "cells": [
    {
      "cell_type": "code",
      "execution_count": 50,
      "metadata": {
        "id": "U6LZKhDZaiev"
      },
      "outputs": [],
      "source": [
        "a = [0, 80,23, 1, 5]"
      ]
    },
    {
      "cell_type": "code",
      "source": [
        "# return number 1 index above the key\n",
        "def binarySearch(array, n, key):\n",
        "  L = 0\n",
        "  R = n\n",
        "  while R > L:\n",
        "    mid = round((L+R)/2)\n",
        "    if array[mid] <= key:\n",
        "      L = mid+1\n",
        "    R = mid\n",
        "  return L\n",
        "\n"
      ],
      "metadata": {
        "id": "BpCdK9Yda7zG"
      },
      "execution_count": 34,
      "outputs": []
    },
    {
      "cell_type": "code",
      "source": [
        "def BinaryInsertSort(array):\n",
        "  # assume first element is already sorted\n",
        "  for i in range(1,len(array)):\n",
        "    key = array[i]\n",
        "    position = binarySearch(array, i, key)\n",
        "    # change variable\n",
        "    j = i\n",
        "    while j > position:\n",
        "      array[j], array[j-1] = array[j-1], array[j]\n",
        "      j = j-1\n",
        "    array[position] = key\n",
        "  print(array)\n",
        "\n",
        "\n"
      ],
      "metadata": {
        "id": "m6vVYz7BdLN4"
      },
      "execution_count": 44,
      "outputs": []
    },
    {
      "cell_type": "code",
      "source": [
        "print(a)\n",
        "BinaryInsertSort(a)"
      ],
      "metadata": {
        "colab": {
          "base_uri": "https://localhost:8080/"
        },
        "id": "uVH_MctKa0iX",
        "outputId": "ae6e5ce1-2b9b-49b4-fe61-cdf6ed31388e"
      },
      "execution_count": 51,
      "outputs": [
        {
          "output_type": "stream",
          "name": "stdout",
          "text": [
            "[0, 80, 23, 1, 5]\n",
            "[0, 1, 5, 23, 80]\n"
          ]
        }
      ]
    }
  ]
}