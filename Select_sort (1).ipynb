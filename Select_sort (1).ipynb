{
  "nbformat": 4,
  "nbformat_minor": 0,
  "metadata": {
    "colab": {
      "provenance": []
    },
    "kernelspec": {
      "name": "python3",
      "display_name": "Python 3"
    },
    "language_info": {
      "name": "python"
    }
  },
  "cells": [
    {
      "cell_type": "code",
      "execution_count": 100,
      "metadata": {
        "id": "UFkQc-KX53yf"
      },
      "outputs": [],
      "source": [
        "a = [59, 4, 3]"
      ]
    },
    {
      "cell_type": "code",
      "source": [
        "for i in range(len(a)):\n",
        "  iMin = i\n",
        "  for j in range(iMin + 1, len(a)):\n",
        "    if a[j] < a[iMin]:\n",
        "      iMin = j\n",
        "  (a[i], a[iMin]) = (a[iMin], a[i])\n",
        "\n",
        "\n"
      ],
      "metadata": {
        "id": "eUScK6895_DM"
      },
      "execution_count": 103,
      "outputs": []
    },
    {
      "cell_type": "code",
      "source": [
        "print(a)"
      ],
      "metadata": {
        "colab": {
          "base_uri": "https://localhost:8080/"
        },
        "id": "SHWuZDeu6pvp",
        "outputId": "ff1ae233-ff30-4a07-900c-17c350d2fafd"
      },
      "execution_count": 102,
      "outputs": [
        {
          "output_type": "stream",
          "name": "stdout",
          "text": [
            "[3, 4, 59]\n"
          ]
        }
      ]
    }
  ]
}