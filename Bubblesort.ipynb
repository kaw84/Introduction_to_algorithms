{
  "nbformat": 4,
  "nbformat_minor": 0,
  "metadata": {
    "colab": {
      "provenance": []
    },
    "kernelspec": {
      "name": "python3",
      "display_name": "Python 3"
    },
    "language_info": {
      "name": "python"
    }
  },
  "cells": [
    {
      "cell_type": "code",
      "execution_count": 7,
      "metadata": {
        "id": "wUKBUT8agR2-"
      },
      "outputs": [],
      "source": [
        "a = [50, 3, 0, 7]"
      ]
    },
    {
      "cell_type": "code",
      "source": [
        "def bubbleSort(array):\n",
        "  for i in range(len(array)):\n",
        "    swapped = False\n",
        "    # iterate through neighbours\n",
        "    for j in range(len(array) -i -1):\n",
        "      if array[j] > array[j+1]:\n",
        "        # reassign values\n",
        "        temp = array[j]\n",
        "        array[j] = array[j+1]\n",
        "        array[j+1] = temp\n",
        "        swapped = True\n",
        "    if not swapped:\n",
        "      break\n"
      ],
      "metadata": {
        "id": "xXPmBCV4gVTW"
      },
      "execution_count": 8,
      "outputs": []
    },
    {
      "cell_type": "code",
      "source": [
        "bubbleSort(a)\n",
        "print(a)"
      ],
      "metadata": {
        "colab": {
          "base_uri": "https://localhost:8080/"
        },
        "id": "wo4GmS0JhcHS",
        "outputId": "cef33c88-5c21-4eb4-d993-3bd34369398f"
      },
      "execution_count": 9,
      "outputs": [
        {
          "output_type": "stream",
          "name": "stdout",
          "text": [
            "[0, 3, 7, 50]\n"
          ]
        }
      ]
    }
  ]
}