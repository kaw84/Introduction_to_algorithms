{
  "nbformat": 4,
  "nbformat_minor": 0,
  "metadata": {
    "colab": {
      "provenance": []
    },
    "kernelspec": {
      "name": "python3",
      "display_name": "Python 3"
    },
    "language_info": {
      "name": "python"
    }
  },
  "cells": [
    {
      "cell_type": "code",
      "execution_count": 1,
      "metadata": {
        "id": "x9kMMI9fh9s6"
      },
      "outputs": [],
      "source": [
        "a = [80, 54, 3, 8]"
      ]
    },
    {
      "cell_type": "code",
      "source": [
        "def Mergesort(array):\n",
        "  if len(array) < 2:\n",
        "    return array\n",
        "\n",
        "  # split into two smaller arrays\n",
        "  b = int(len(array)/2)\n",
        "  temp_arr_1 = array[:b]\n",
        "  temp_arr_2 = array[b:]\n",
        "\n",
        "  Mergesort(temp_arr_1)\n",
        "  Mergesort(temp_arr_2)\n",
        "\n",
        "  i = j = k = 0\n",
        "\n",
        "  while i < len(temp_arr_1) and j < len(temp_arr_2):\n",
        "    if temp_arr_1[i] < temp_arr_2[j]:\n",
        "      array[k] = temp_arr_1[i]\n",
        "      i += 1\n",
        "    else:\n",
        "      array[k] = temp_arr_2[j]\n",
        "      j += 1\n",
        "    k += 1\n",
        "\n",
        "  while i < len(temp_arr_1):\n",
        "    array[k] = temp_arr_1[i]\n",
        "    i += 1\n",
        "    k += 1\n",
        "  while j < len(temp_arr_2):\n",
        "    array[k] = temp_arr_2[j]\n",
        "    j += 1\n",
        "    k += 1\n",
        "\n",
        "\n",
        "\n",
        "\n",
        "\n",
        "\n"
      ],
      "metadata": {
        "id": "L4epi4_wiB2H"
      },
      "execution_count": 6,
      "outputs": []
    },
    {
      "cell_type": "code",
      "source": [
        "Mergesort(a)"
      ],
      "metadata": {
        "id": "7-_oYq57kfOC"
      },
      "execution_count": 7,
      "outputs": []
    },
    {
      "cell_type": "code",
      "source": [
        "print(a)"
      ],
      "metadata": {
        "id": "vbErM6YFk-Lk",
        "outputId": "164b7ea3-a7d7-414f-d2ce-e1e002e6d818",
        "colab": {
          "base_uri": "https://localhost:8080/"
        }
      },
      "execution_count": 8,
      "outputs": [
        {
          "output_type": "stream",
          "name": "stdout",
          "text": [
            "[3, 8, 54, 80]\n"
          ]
        }
      ]
    }
  ]
}