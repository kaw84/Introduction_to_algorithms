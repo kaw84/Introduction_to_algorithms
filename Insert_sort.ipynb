{
  "nbformat": 4,
  "nbformat_minor": 0,
  "metadata": {
    "colab": {
      "provenance": []
    },
    "kernelspec": {
      "name": "python3",
      "display_name": "Python 3"
    },
    "language_info": {
      "name": "python"
    }
  },
  "cells": [
    {
      "cell_type": "code",
      "source": [
        "a = [31, 41, 59, 26, 41, 58]"
      ],
      "metadata": {
        "id": "Wc6BBrBoyUTR"
      },
      "execution_count": null,
      "outputs": []
    },
    {
      "cell_type": "code",
      "execution_count": null,
      "metadata": {
        "id": "zco3y-Yqx7tB"
      },
      "outputs": [],
      "source": [
        "# increasing order\n",
        "for j in range(1, len(a)):\n",
        "  key = a[j]\n",
        "  i = j - 1\n",
        "  while i >= 0 and a[i] > key:\n",
        "    a[i+1] = a[i]\n",
        "    i -= 1\n",
        "  a[i+1] = key\n"
      ]
    },
    {
      "cell_type": "code",
      "source": [
        "print(a)"
      ],
      "metadata": {
        "colab": {
          "base_uri": "https://localhost:8080/"
        },
        "id": "XNBfFgR8yyhd",
        "outputId": "fdb04a0e-6f75-48a9-b643-120432b022cf"
      },
      "execution_count": null,
      "outputs": [
        {
          "output_type": "stream",
          "name": "stdout",
          "text": [
            "[26, 31, 41, 41, 58, 59]\n"
          ]
        }
      ]
    },
    {
      "cell_type": "code",
      "source": [
        "# decreasing order\n",
        "for j in range(1, len(a)):\n",
        "  key = a[j]\n",
        "  i = j - 1\n",
        "  while i >= 0 and a[i] < key:\n",
        "    a[i+1] = a[i]\n",
        "    i -= 1\n",
        "  a[i+1] = key\n"
      ],
      "metadata": {
        "id": "FIXgS1kZzNQa"
      },
      "execution_count": null,
      "outputs": []
    },
    {
      "cell_type": "code",
      "source": [
        "print(a)"
      ],
      "metadata": {
        "colab": {
          "base_uri": "https://localhost:8080/"
        },
        "id": "I4DBYbBizQZ3",
        "outputId": "91a11ca7-d517-413b-a525-86c601fb6921"
      },
      "execution_count": null,
      "outputs": [
        {
          "output_type": "stream",
          "name": "stdout",
          "text": [
            "[59, 58, 41, 41, 31, 26]\n"
          ]
        }
      ]
    },
    {
      "cell_type": "code",
      "source": [
        "# pseudocode to find v\n",
        "\n",
        "for i in range of 0 to A.length:\n",
        "  key = A[i]\n",
        "  output = 'NIL'\n",
        "\n",
        "  if A[i] = v:\n",
        "    output = A[i]\n",
        "  return output"
      ],
      "metadata": {
        "id": "OLCj76Uw0g_X"
      },
      "execution_count": null,
      "outputs": []
    },
    {
      "cell_type": "code",
      "source": [
        "# pseudocode to add two binary integers\n",
        "c = list from 0 to n+1\n",
        "for i in range of 0 to n.length, going from n.length:\n",
        "  if n[i] == 0 and m[i] == 0:\n",
        "    c[i] += 0\n",
        "  elif n[i] == 1 and m[i] == 0 or n[i] == 0 and m[i] == 1:\n",
        "    c[i] += 1\n",
        "  elif n[i] == 1 and m[i] == 0:\n",
        "    c[i] += 0\n",
        "    c[i-1] += 1"
      ],
      "metadata": {
        "id": "qHSfIH6_0qAJ"
      },
      "execution_count": null,
      "outputs": []
    }
  ]
}